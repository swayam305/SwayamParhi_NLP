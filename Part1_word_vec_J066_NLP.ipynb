{
  "nbformat": 4,
  "nbformat_minor": 0,
  "metadata": {
    "colab": {
      "provenance": []
    },
    "kernelspec": {
      "name": "python3",
      "display_name": "Python 3"
    },
    "language_info": {
      "name": "python"
    }
  },
  "cells": [
    {
      "cell_type": "code",
      "execution_count": 1,
      "metadata": {
        "colab": {
          "base_uri": "https://localhost:8080/",
          "height": 668
        },
        "id": "QyX3gXh7M-A0",
        "outputId": "94fcee32-86f3-49d8-acbf-995d138d2acb"
      },
      "outputs": [
        {
          "output_type": "stream",
          "name": "stdout",
          "text": [
            "Collecting gensim\n",
            "  Downloading gensim-4.3.3-cp311-cp311-manylinux_2_17_x86_64.manylinux2014_x86_64.whl.metadata (8.1 kB)\n",
            "Collecting numpy<2.0,>=1.18.5 (from gensim)\n",
            "  Downloading numpy-1.26.4-cp311-cp311-manylinux_2_17_x86_64.manylinux2014_x86_64.whl.metadata (61 kB)\n",
            "\u001b[2K     \u001b[90m━━━━━━━━━━━━━━━━━━━━━━━━━━━━━━━━━━━━━━━━\u001b[0m \u001b[32m61.0/61.0 kB\u001b[0m \u001b[31m5.2 MB/s\u001b[0m eta \u001b[36m0:00:00\u001b[0m\n",
            "\u001b[?25hCollecting scipy<1.14.0,>=1.7.0 (from gensim)\n",
            "  Downloading scipy-1.13.1-cp311-cp311-manylinux_2_17_x86_64.manylinux2014_x86_64.whl.metadata (60 kB)\n",
            "\u001b[2K     \u001b[90m━━━━━━━━━━━━━━━━━━━━━━━━━━━━━━━━━━━━━━━━\u001b[0m \u001b[32m60.6/60.6 kB\u001b[0m \u001b[31m4.7 MB/s\u001b[0m eta \u001b[36m0:00:00\u001b[0m\n",
            "\u001b[?25hRequirement already satisfied: smart-open>=1.8.1 in /usr/local/lib/python3.11/dist-packages (from gensim) (7.3.0.post1)\n",
            "Requirement already satisfied: wrapt in /usr/local/lib/python3.11/dist-packages (from smart-open>=1.8.1->gensim) (1.17.2)\n",
            "Downloading gensim-4.3.3-cp311-cp311-manylinux_2_17_x86_64.manylinux2014_x86_64.whl (26.7 MB)\n",
            "\u001b[2K   \u001b[90m━━━━━━━━━━━━━━━━━━━━━━━━━━━━━━━━━━━━━━━━\u001b[0m \u001b[32m26.7/26.7 MB\u001b[0m \u001b[31m46.0 MB/s\u001b[0m eta \u001b[36m0:00:00\u001b[0m\n",
            "\u001b[?25hDownloading numpy-1.26.4-cp311-cp311-manylinux_2_17_x86_64.manylinux2014_x86_64.whl (18.3 MB)\n",
            "\u001b[2K   \u001b[90m━━━━━━━━━━━━━━━━━━━━━━━━━━━━━━━━━━━━━━━━\u001b[0m \u001b[32m18.3/18.3 MB\u001b[0m \u001b[31m51.9 MB/s\u001b[0m eta \u001b[36m0:00:00\u001b[0m\n",
            "\u001b[?25hDownloading scipy-1.13.1-cp311-cp311-manylinux_2_17_x86_64.manylinux2014_x86_64.whl (38.6 MB)\n",
            "\u001b[2K   \u001b[90m━━━━━━━━━━━━━━━━━━━━━━━━━━━━━━━━━━━━━━━━\u001b[0m \u001b[32m38.6/38.6 MB\u001b[0m \u001b[31m14.6 MB/s\u001b[0m eta \u001b[36m0:00:00\u001b[0m\n",
            "\u001b[?25hInstalling collected packages: numpy, scipy, gensim\n",
            "  Attempting uninstall: numpy\n",
            "    Found existing installation: numpy 2.0.2\n",
            "    Uninstalling numpy-2.0.2:\n",
            "      Successfully uninstalled numpy-2.0.2\n",
            "  Attempting uninstall: scipy\n",
            "    Found existing installation: scipy 1.16.0\n",
            "    Uninstalling scipy-1.16.0:\n",
            "      Successfully uninstalled scipy-1.16.0\n",
            "\u001b[31mERROR: pip's dependency resolver does not currently take into account all the packages that are installed. This behaviour is the source of the following dependency conflicts.\n",
            "opencv-python 4.12.0.88 requires numpy<2.3.0,>=2; python_version >= \"3.9\", but you have numpy 1.26.4 which is incompatible.\n",
            "tsfresh 0.21.0 requires scipy>=1.14.0; python_version >= \"3.10\", but you have scipy 1.13.1 which is incompatible.\n",
            "thinc 8.3.6 requires numpy<3.0.0,>=2.0.0, but you have numpy 1.26.4 which is incompatible.\n",
            "opencv-python-headless 4.12.0.88 requires numpy<2.3.0,>=2; python_version >= \"3.9\", but you have numpy 1.26.4 which is incompatible.\n",
            "opencv-contrib-python 4.12.0.88 requires numpy<2.3.0,>=2; python_version >= \"3.9\", but you have numpy 1.26.4 which is incompatible.\u001b[0m\u001b[31m\n",
            "\u001b[0mSuccessfully installed gensim-4.3.3 numpy-1.26.4 scipy-1.13.1\n"
          ]
        },
        {
          "output_type": "display_data",
          "data": {
            "application/vnd.colab-display-data+json": {
              "pip_warning": {
                "packages": [
                  "numpy"
                ]
              },
              "id": "1bf89064fbbc460ebb92a2898b9301ff"
            }
          },
          "metadata": {}
        }
      ],
      "source": [
        "pip install gensim\n"
      ]
    },
    {
      "cell_type": "code",
      "source": [
        "import gensim.downloader as api\n",
        "\n",
        "# Load the pretrained model (300-dimensional vectors trained on Google News)\n",
        "model = api.load(\"word2vec-google-news-300\")\n"
      ],
      "metadata": {
        "colab": {
          "base_uri": "https://localhost:8080/"
        },
        "id": "TVYidKbXNfSS",
        "outputId": "bb7849e1-dc40-4525-d6cd-3042536e0d89"
      },
      "execution_count": 4,
      "outputs": [
        {
          "output_type": "stream",
          "name": "stdout",
          "text": [
            "[==================================================] 100.0% 1662.8/1662.8MB downloaded\n"
          ]
        }
      ]
    },
    {
      "cell_type": "code",
      "source": [
        "words = [\"technology\", \"india\", \"education\", \"apple\", \"music\"]\n",
        "\n",
        "for word in words:\n",
        "    print(f\"\\nTop 5 words similar to '{word}':\")\n",
        "    similar_words = model.most_similar(word, topn=5)\n",
        "    for sim_word, score in similar_words:\n",
        "        print(f\"  {sim_word} ({score:.4f})\")\n"
      ],
      "metadata": {
        "colab": {
          "base_uri": "https://localhost:8080/"
        },
        "id": "cj4_3UNXNkwX",
        "outputId": "05729afd-8088-44d1-98c7-62ee72c3651f"
      },
      "execution_count": 5,
      "outputs": [
        {
          "output_type": "stream",
          "name": "stdout",
          "text": [
            "\n",
            "Top 5 words similar to 'technology':\n",
            "  technologies (0.8332)\n",
            "  innovations (0.6231)\n",
            "  technological_innovations (0.6102)\n",
            "  technol (0.6047)\n",
            "  technological_advancement (0.6036)\n",
            "\n",
            "Top 5 words similar to 'india':\n",
            "  indian (0.6967)\n",
            "  usa (0.6836)\n",
            "  pakistan (0.6815)\n",
            "  chennai (0.6676)\n",
            "  america (0.6589)\n",
            "\n",
            "Top 5 words similar to 'education':\n",
            "  eduction (0.7980)\n",
            "  eduation (0.7176)\n",
            "  LISA_MICHALS_covers (0.6817)\n",
            "  Matt_Krupnick_covers (0.6798)\n",
            "  educational (0.6780)\n",
            "\n",
            "Top 5 words similar to 'apple':\n",
            "  apples (0.7204)\n",
            "  pear (0.6451)\n",
            "  fruit (0.6410)\n",
            "  berry (0.6302)\n",
            "  pears (0.6134)\n",
            "\n",
            "Top 5 words similar to 'music':\n",
            "  classical_music (0.7198)\n",
            "  jazz (0.6835)\n",
            "  Music (0.6596)\n",
            "  Without_Donny_Kirshner (0.6416)\n",
            "  songs (0.6396)\n"
          ]
        }
      ]
    },
    {
      "cell_type": "code",
      "source": [
        "examples = [\n",
        "    (\"king\", \"man\", \"woman\"),     # Expected → \"queen\"\n",
        "    (\"paris\", \"france\", \"italy\"), # Expected → \"rome\"\n",
        "    (\"apple\", \"technology\", \"music\")  # Expected → \"itunes\", \"ipod\", etc.\n",
        "]\n",
        "\n",
        "for a, b, c in examples:\n",
        "    print(f\"\\nAnalogy: {a} - {b} + {c} = ?\")\n",
        "    result = model.most_similar(positive=[a, c], negative=[b], topn=3)\n",
        "    for word, score in result:\n",
        "        print(f\"  {word} ({score:.4f})\")\n"
      ],
      "metadata": {
        "colab": {
          "base_uri": "https://localhost:8080/"
        },
        "id": "f74gtCFpNndu",
        "outputId": "5e1aabc2-afda-442c-8096-0a5b812c9da2"
      },
      "execution_count": 6,
      "outputs": [
        {
          "output_type": "stream",
          "name": "stdout",
          "text": [
            "\n",
            "Analogy: king - man + woman = ?\n",
            "  queen (0.7118)\n",
            "  monarch (0.6190)\n",
            "  princess (0.5902)\n",
            "\n",
            "Analogy: paris - france + italy = ?\n",
            "  lohan (0.5070)\n",
            "  madrid (0.4818)\n",
            "  heidi (0.4800)\n",
            "\n",
            "Analogy: apple - technology + music = ?\n",
            "  apples (0.4585)\n",
            "  classical_music (0.4526)\n",
            "  cherries (0.4398)\n"
          ]
        }
      ]
    },
    {
      "cell_type": "code",
      "source": [],
      "metadata": {
        "id": "Vs2xXE7uN3oP"
      },
      "execution_count": null,
      "outputs": []
    }
  ]
}